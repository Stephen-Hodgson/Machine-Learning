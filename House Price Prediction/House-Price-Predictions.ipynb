{
 "cells": [
  {
   "cell_type": "markdown",
   "metadata": {},
   "source": [
    "# California Area House Price Prediction "
   ]
  },
  {
   "cell_type": "code",
   "execution_count": 9,
   "metadata": {},
   "outputs": [],
   "source": [
    "#import modules and data\n",
    "\n",
    "import pandas as pd\n",
    "from sklearn.model_selection import train_test_split\n",
    "\n"
   ]
  },
  {
   "cell_type": "markdown",
   "metadata": {},
   "source": [
    "I load the data and view see what columns it has. I remove the Id column"
   ]
  },
  {
   "cell_type": "code",
   "execution_count": 10,
   "metadata": {},
   "outputs": [
    {
     "name": "stdout",
     "output_type": "stream",
     "text": [
      "(20640, 10)\n"
     ]
    },
    {
     "data": {
      "text/html": [
       "<div>\n",
       "<style scoped>\n",
       "    .dataframe tbody tr th:only-of-type {\n",
       "        vertical-align: middle;\n",
       "    }\n",
       "\n",
       "    .dataframe tbody tr th {\n",
       "        vertical-align: top;\n",
       "    }\n",
       "\n",
       "    .dataframe thead th {\n",
       "        text-align: right;\n",
       "    }\n",
       "</style>\n",
       "<table border=\"1\" class=\"dataframe\">\n",
       "  <thead>\n",
       "    <tr style=\"text-align: right;\">\n",
       "      <th></th>\n",
       "      <th>longitude</th>\n",
       "      <th>latitude</th>\n",
       "      <th>housing_median_age</th>\n",
       "      <th>total_rooms</th>\n",
       "      <th>total_bedrooms</th>\n",
       "      <th>population</th>\n",
       "      <th>households</th>\n",
       "      <th>median_income</th>\n",
       "      <th>median_house_value</th>\n",
       "      <th>ocean_proximity</th>\n",
       "    </tr>\n",
       "  </thead>\n",
       "  <tbody>\n",
       "    <tr>\n",
       "      <th>0</th>\n",
       "      <td>-122.23</td>\n",
       "      <td>37.88</td>\n",
       "      <td>41.0</td>\n",
       "      <td>880.0</td>\n",
       "      <td>129.0</td>\n",
       "      <td>322.0</td>\n",
       "      <td>126.0</td>\n",
       "      <td>8.3252</td>\n",
       "      <td>452600.0</td>\n",
       "      <td>NEAR BAY</td>\n",
       "    </tr>\n",
       "    <tr>\n",
       "      <th>1</th>\n",
       "      <td>-122.22</td>\n",
       "      <td>37.86</td>\n",
       "      <td>21.0</td>\n",
       "      <td>7099.0</td>\n",
       "      <td>1106.0</td>\n",
       "      <td>2401.0</td>\n",
       "      <td>1138.0</td>\n",
       "      <td>8.3014</td>\n",
       "      <td>358500.0</td>\n",
       "      <td>NEAR BAY</td>\n",
       "    </tr>\n",
       "    <tr>\n",
       "      <th>2</th>\n",
       "      <td>-122.24</td>\n",
       "      <td>37.85</td>\n",
       "      <td>52.0</td>\n",
       "      <td>1467.0</td>\n",
       "      <td>190.0</td>\n",
       "      <td>496.0</td>\n",
       "      <td>177.0</td>\n",
       "      <td>7.2574</td>\n",
       "      <td>352100.0</td>\n",
       "      <td>NEAR BAY</td>\n",
       "    </tr>\n",
       "    <tr>\n",
       "      <th>3</th>\n",
       "      <td>-122.25</td>\n",
       "      <td>37.85</td>\n",
       "      <td>52.0</td>\n",
       "      <td>1274.0</td>\n",
       "      <td>235.0</td>\n",
       "      <td>558.0</td>\n",
       "      <td>219.0</td>\n",
       "      <td>5.6431</td>\n",
       "      <td>341300.0</td>\n",
       "      <td>NEAR BAY</td>\n",
       "    </tr>\n",
       "    <tr>\n",
       "      <th>4</th>\n",
       "      <td>-122.25</td>\n",
       "      <td>37.85</td>\n",
       "      <td>52.0</td>\n",
       "      <td>1627.0</td>\n",
       "      <td>280.0</td>\n",
       "      <td>565.0</td>\n",
       "      <td>259.0</td>\n",
       "      <td>3.8462</td>\n",
       "      <td>342200.0</td>\n",
       "      <td>NEAR BAY</td>\n",
       "    </tr>\n",
       "  </tbody>\n",
       "</table>\n",
       "</div>"
      ],
      "text/plain": [
       "   longitude  latitude  housing_median_age  total_rooms  total_bedrooms  \\\n",
       "0    -122.23     37.88                41.0        880.0           129.0   \n",
       "1    -122.22     37.86                21.0       7099.0          1106.0   \n",
       "2    -122.24     37.85                52.0       1467.0           190.0   \n",
       "3    -122.25     37.85                52.0       1274.0           235.0   \n",
       "4    -122.25     37.85                52.0       1627.0           280.0   \n",
       "\n",
       "   population  households  median_income  median_house_value ocean_proximity  \n",
       "0       322.0       126.0         8.3252            452600.0        NEAR BAY  \n",
       "1      2401.0      1138.0         8.3014            358500.0        NEAR BAY  \n",
       "2       496.0       177.0         7.2574            352100.0        NEAR BAY  \n",
       "3       558.0       219.0         5.6431            341300.0        NEAR BAY  \n",
       "4       565.0       259.0         3.8462            342200.0        NEAR BAY  "
      ]
     },
     "execution_count": 10,
     "metadata": {},
     "output_type": "execute_result"
    }
   ],
   "source": [
    "data=pd.read_csv('data/Cali_housing.csv')\n",
    "print(data.shape)\n",
    "data.head()\n"
   ]
  },
  {
   "cell_type": "markdown",
   "metadata": {},
   "source": [
    "Here is some data pre-processing. 207 entries have N/A for total_bedrooms. This is very few compared to the sample size and there doesn't appear to be any connection between N/A entries and the rest of the data, so I conclude dropping these entries will be unlikely to significantly affect the prediction model.\n",
    "\n",
    "The ocean_proximity field is non-quantitative. There are only 5 unique entries which makes one-hot encoding reasonable. This seemed to perform better than ordinal encoding."
   ]
  },
  {
   "cell_type": "code",
   "execution_count": 11,
   "metadata": {},
   "outputs": [
    {
     "name": "stdout",
     "output_type": "stream",
     "text": [
      "null data entries: \n",
      "longitude               0\n",
      "latitude                0\n",
      "housing_median_age      0\n",
      "total_rooms             0\n",
      "total_bedrooms        207\n",
      "population              0\n",
      "households              0\n",
      "median_income           0\n",
      "median_house_value      0\n",
      "ocean_proximity         0\n",
      "dtype: int64 \n",
      "\n",
      "cardinality of 'ocean proximity':  5 \n",
      "\n",
      "pre-processed data shape:  (20433, 14)\n"
     ]
    }
   ],
   "source": [
    "from sklearn.preprocessing import OneHotEncoder\n",
    "from sklearn.preprocessing import OrdinalEncoder\n",
    "\n",
    "print(\"null data entries: \")\n",
    "print(data.isnull().sum(),\"\\n\")\n",
    "drop_na_data=data.dropna(axis=0)\n",
    "\n",
    "\n",
    "\n",
    "print(\"cardinality of 'ocean proximity': \", data.ocean_proximity.nunique(),\"\\n\")\n",
    "\n",
    "#\"\"\"\n",
    "OH_encoder=OneHotEncoder(handle_unknown='ignore', sparse_output=False)\n",
    "OH_cols=pd.DataFrame(OH_encoder.fit_transform(pd.DataFrame(drop_na_data['ocean_proximity'])))\n",
    "OH_cols.index=drop_na_data.index\n",
    "OH_cols.columns=OH_cols.columns.astype(str)\n",
    "pre_processed_data=pd.concat([drop_na_data.drop('ocean_proximity',axis=1),OH_cols],axis=1)\n",
    "#\"\"\"\n",
    "\n",
    "\n",
    "\"\"\"\n",
    "ordinal_encoder = OrdinalEncoder()\n",
    "pre_processed_data=drop_na_data.copy()\n",
    "pre_processed_data['ocean_proximity'] = ordinal_encoder.fit_transform(pd.DataFrame(drop_na_data['ocean_proximity']))\n",
    "\"\"\"\n",
    "\n",
    "\n",
    "print(\"pre-processed data shape: \", pre_processed_data.shape)\n",
    "\n"
   ]
  },
  {
   "cell_type": "code",
   "execution_count": 12,
   "metadata": {},
   "outputs": [
    {
     "data": {
      "text/html": [
       "<div>\n",
       "<style scoped>\n",
       "    .dataframe tbody tr th:only-of-type {\n",
       "        vertical-align: middle;\n",
       "    }\n",
       "\n",
       "    .dataframe tbody tr th {\n",
       "        vertical-align: top;\n",
       "    }\n",
       "\n",
       "    .dataframe thead th {\n",
       "        text-align: right;\n",
       "    }\n",
       "</style>\n",
       "<table border=\"1\" class=\"dataframe\">\n",
       "  <thead>\n",
       "    <tr style=\"text-align: right;\">\n",
       "      <th></th>\n",
       "      <th>longitude</th>\n",
       "      <th>latitude</th>\n",
       "      <th>housing_median_age</th>\n",
       "      <th>total_rooms</th>\n",
       "      <th>total_bedrooms</th>\n",
       "      <th>population</th>\n",
       "      <th>households</th>\n",
       "      <th>median_income</th>\n",
       "      <th>median_house_value</th>\n",
       "      <th>0</th>\n",
       "      <th>1</th>\n",
       "      <th>2</th>\n",
       "      <th>3</th>\n",
       "      <th>4</th>\n",
       "    </tr>\n",
       "  </thead>\n",
       "  <tbody>\n",
       "    <tr>\n",
       "      <th>0</th>\n",
       "      <td>-122.23</td>\n",
       "      <td>37.88</td>\n",
       "      <td>41.0</td>\n",
       "      <td>880.0</td>\n",
       "      <td>129.0</td>\n",
       "      <td>322.0</td>\n",
       "      <td>126.0</td>\n",
       "      <td>8.3252</td>\n",
       "      <td>452600.0</td>\n",
       "      <td>0.0</td>\n",
       "      <td>0.0</td>\n",
       "      <td>0.0</td>\n",
       "      <td>1.0</td>\n",
       "      <td>0.0</td>\n",
       "    </tr>\n",
       "    <tr>\n",
       "      <th>1</th>\n",
       "      <td>-122.22</td>\n",
       "      <td>37.86</td>\n",
       "      <td>21.0</td>\n",
       "      <td>7099.0</td>\n",
       "      <td>1106.0</td>\n",
       "      <td>2401.0</td>\n",
       "      <td>1138.0</td>\n",
       "      <td>8.3014</td>\n",
       "      <td>358500.0</td>\n",
       "      <td>0.0</td>\n",
       "      <td>0.0</td>\n",
       "      <td>0.0</td>\n",
       "      <td>1.0</td>\n",
       "      <td>0.0</td>\n",
       "    </tr>\n",
       "    <tr>\n",
       "      <th>2</th>\n",
       "      <td>-122.24</td>\n",
       "      <td>37.85</td>\n",
       "      <td>52.0</td>\n",
       "      <td>1467.0</td>\n",
       "      <td>190.0</td>\n",
       "      <td>496.0</td>\n",
       "      <td>177.0</td>\n",
       "      <td>7.2574</td>\n",
       "      <td>352100.0</td>\n",
       "      <td>0.0</td>\n",
       "      <td>0.0</td>\n",
       "      <td>0.0</td>\n",
       "      <td>1.0</td>\n",
       "      <td>0.0</td>\n",
       "    </tr>\n",
       "    <tr>\n",
       "      <th>3</th>\n",
       "      <td>-122.25</td>\n",
       "      <td>37.85</td>\n",
       "      <td>52.0</td>\n",
       "      <td>1274.0</td>\n",
       "      <td>235.0</td>\n",
       "      <td>558.0</td>\n",
       "      <td>219.0</td>\n",
       "      <td>5.6431</td>\n",
       "      <td>341300.0</td>\n",
       "      <td>0.0</td>\n",
       "      <td>0.0</td>\n",
       "      <td>0.0</td>\n",
       "      <td>1.0</td>\n",
       "      <td>0.0</td>\n",
       "    </tr>\n",
       "    <tr>\n",
       "      <th>4</th>\n",
       "      <td>-122.25</td>\n",
       "      <td>37.85</td>\n",
       "      <td>52.0</td>\n",
       "      <td>1627.0</td>\n",
       "      <td>280.0</td>\n",
       "      <td>565.0</td>\n",
       "      <td>259.0</td>\n",
       "      <td>3.8462</td>\n",
       "      <td>342200.0</td>\n",
       "      <td>0.0</td>\n",
       "      <td>0.0</td>\n",
       "      <td>0.0</td>\n",
       "      <td>1.0</td>\n",
       "      <td>0.0</td>\n",
       "    </tr>\n",
       "  </tbody>\n",
       "</table>\n",
       "</div>"
      ],
      "text/plain": [
       "   longitude  latitude  housing_median_age  total_rooms  total_bedrooms  \\\n",
       "0    -122.23     37.88                41.0        880.0           129.0   \n",
       "1    -122.22     37.86                21.0       7099.0          1106.0   \n",
       "2    -122.24     37.85                52.0       1467.0           190.0   \n",
       "3    -122.25     37.85                52.0       1274.0           235.0   \n",
       "4    -122.25     37.85                52.0       1627.0           280.0   \n",
       "\n",
       "   population  households  median_income  median_house_value    0    1    2  \\\n",
       "0       322.0       126.0         8.3252            452600.0  0.0  0.0  0.0   \n",
       "1      2401.0      1138.0         8.3014            358500.0  0.0  0.0  0.0   \n",
       "2       496.0       177.0         7.2574            352100.0  0.0  0.0  0.0   \n",
       "3       558.0       219.0         5.6431            341300.0  0.0  0.0  0.0   \n",
       "4       565.0       259.0         3.8462            342200.0  0.0  0.0  0.0   \n",
       "\n",
       "     3    4  \n",
       "0  1.0  0.0  \n",
       "1  1.0  0.0  \n",
       "2  1.0  0.0  \n",
       "3  1.0  0.0  \n",
       "4  1.0  0.0  "
      ]
     },
     "execution_count": 12,
     "metadata": {},
     "output_type": "execute_result"
    }
   ],
   "source": [
    "pre_processed_data.head()\n"
   ]
  },
  {
   "cell_type": "code",
   "execution_count": 13,
   "metadata": {},
   "outputs": [],
   "source": [
    "y_full=pre_processed_data.median_house_value\n",
    "x_full=pre_processed_data.drop('median_house_value',axis=1)\n",
    "x_train, x_test, y_train, y_test = train_test_split(x_full, y_full, test_size=0.2, train_size=0.8, random_state=1)"
   ]
  },
  {
   "cell_type": "code",
   "execution_count": 14,
   "metadata": {},
   "outputs": [
    {
     "name": "stdout",
     "output_type": "stream",
     "text": [
      "(16346, 13) (4087, 13)\n"
     ]
    }
   ],
   "source": [
    "print(x_train.shape, x_test.shape)"
   ]
  },
  {
   "cell_type": "markdown",
   "metadata": {},
   "source": [
    "I do a quick Random Forest model. This can perform well (mae of ~30000 in the test set and r2_score of 0.81), but quickly overfits the data. n_estimators=100 and max_depth=20 is enough to give good accuracy. We then try to reduce variance by increasing min_samples_split. We can reduce the overfitting by increasing min_samples_split to ~40 with minimal accuracy loss."
   ]
  },
  {
   "cell_type": "code",
   "execution_count": 19,
   "metadata": {},
   "outputs": [
    {
     "name": "stdout",
     "output_type": "stream",
     "text": [
      "min_samples_split= 2\n",
      "test error:  30439.648571458707\n",
      "train error:  12474.66192073737\n",
      "test error %:  14.714782551130638\n",
      "0.83\n",
      "min_samples_split= 20\n",
      "test error:  31694.286090090147\n",
      "train error:  23307.641714874862\n",
      "test error %:  15.321284897036895\n",
      "0.82\n",
      "min_samples_split= 40\n",
      "test error:  33280.73109334861\n",
      "train error:  28234.039249206002\n",
      "test error %:  16.088185776246267\n",
      "0.81\n",
      "min_samples_split= 80\n",
      "test error:  35417.283304677265\n",
      "train error:  32919.31409720808\n",
      "test error %:  17.121013114086058\n",
      "0.79\n"
     ]
    }
   ],
   "source": [
    "from sklearn.ensemble import RandomForestRegressor\n",
    "from sklearn.metrics import mean_absolute_error\n",
    "from sklearn.metrics import r2_score\n",
    "\n",
    "min_samples_splits=[2,20,40,80]\n",
    "for min_samples_split in min_samples_splits:\n",
    "    print(\"min_samples_split=\",min_samples_split)\n",
    "    rf_model=RandomForestRegressor(n_estimators=100,max_depth=20,min_samples_split=min_samples_split)\n",
    "    rf_model.fit(x_train,y_train)\n",
    "    rf_train_predictions=rf_model.predict(x_train)\n",
    "    rf_test_predictions=rf_model.predict(x_test)\n",
    "\n",
    "    rf_test_mae=mean_absolute_error(y_test, rf_test_predictions)\n",
    "    rf_train_mae=mean_absolute_error(y_train, rf_train_predictions)\n",
    "\n",
    "    print(\"test error: \", rf_test_mae)\n",
    "    print(\"train error: \", rf_train_mae)\n",
    "\n",
    "    print(\"test error %: \", 100*rf_test_mae/drop_na_data.median_house_value.mean())\n",
    "\n",
    "    print(round(r2_score(y_test, rf_test_predictions),2))\n"
   ]
  },
  {
   "cell_type": "code",
   "execution_count": 28,
   "metadata": {},
   "outputs": [
    {
     "name": "stdout",
     "output_type": "stream",
     "text": [
      "test error:  30415.189553003427\n",
      "train error:  22318.35977635488\n",
      "test error %:  14.702958855560086\n",
      "0.84\n"
     ]
    }
   ],
   "source": [
    "from xgboost import XGBRegressor\n",
    "from sklearn.metrics import mean_absolute_error, r2_score\n",
    "\n",
    "xgb_model=XGBRegressor(n_estimators=500,learning_rate=0.1,early_stopping_rounds=5)\n",
    "xgb_model.fit(x_train,y_train,eval_set=[(x_test,y_test)],verbose=False)\n",
    "\n",
    "xg_train_predictions=xgb_model.predict(x_train)\n",
    "xg_test_predictions=xgb_model.predict(x_test)\n",
    "\n",
    "xg_train_mae=mean_absolute_error(y_train, xg_train_predictions)\n",
    "xg_test_mae=mean_absolute_error(y_test, xg_test_predictions)\n",
    "\n",
    "print(\"test error: \", xg_test_mae)\n",
    "print(\"train error: \", xg_train_mae)\n",
    "\n",
    "print(\"test error %: \", 100*xg_test_mae/drop_na_data.median_house_value.mean())\n",
    "\n",
    "print(round(r2_score(y_test, xg_test_predictions),2))\n",
    "\n",
    "\n"
   ]
  },
  {
   "cell_type": "markdown",
   "metadata": {},
   "source": [
    "In conclusion, we can create a random forest regressor with accuracy ~80% and low variance and a gradient boost ensemble with accuracy ~85%. This is already really good and creates a benchmark for us to beat with a deep neural network."
   ]
  },
  {
   "cell_type": "code",
   "execution_count": 41,
   "metadata": {},
   "outputs": [],
   "source": [
    "import tensorflow as tf\n",
    "import tensorflow.keras.layers as tfl\n",
    "from tensorflow.keras.layers import Input\n",
    "from tensorflow.keras.layers import Dense\n",
    "from tensorflow.keras.layers import BatchNormalization\n",
    "\n",
    "def two_layer_model(input_size=(13,), layer_1=7, layer_2=5):\n",
    "    inputs=Input(input_size)\n",
    "    D1=Dense(layer_1, activation='relu')(inputs)\n",
    "    D2=Dense(layer_2, activation='relu')(D1)\n",
    "    y=Dense(1, activation='relu')(D2)\n",
    "    model = tf.keras.Model(inputs=inputs, outputs=y)\n",
    "    return model\n",
    "\n",
    "def three_layer_model(input_size=(13,), layer_1=5, layer_2=5, layer_3=5):\n",
    "    inputs=Input(input_size)\n",
    "    D1=Dense(layer_1, activation='relu')(inputs)\n",
    "    D2=Dense(layer_2, activation='relu')(D1)\n",
    "    D3=Dense(layer_3, activation='relu')(D2)\n",
    "    y=Dense(1, activation='relu')(D2)\n",
    "    model=tf.keras.Model(inputs=inputs, outputs=y)\n",
    "    return model"
   ]
  },
  {
   "cell_type": "code",
   "execution_count": 42,
   "metadata": {},
   "outputs": [
    {
     "name": "stdout",
     "output_type": "stream",
     "text": [
      "Model: \"model_8\"\n",
      "_________________________________________________________________\n",
      " Layer (type)                Output Shape              Param #   \n",
      "=================================================================\n",
      " input_9 (InputLayer)        [(None, 13)]              0         \n",
      "                                                                 \n",
      " dense_24 (Dense)            (None, 100)               1400      \n",
      "                                                                 \n",
      " dense_25 (Dense)            (None, 10)                1010      \n",
      "                                                                 \n",
      " dense_27 (Dense)            (None, 1)                 11        \n",
      "                                                                 \n",
      "=================================================================\n",
      "Total params: 2,421\n",
      "Trainable params: 2,421\n",
      "Non-trainable params: 0\n",
      "_________________________________________________________________\n"
     ]
    }
   ],
   "source": [
    "input_size=(x_train.shape[1],)\n",
    "\n",
    "#model=two_layer_model(input_size=input_size,layer_1=500, layer_2=10)\n",
    "model=three_layer_model(input_size=input_size, layer_1=100, layer_2=10, layer_3=5)\n",
    "opt=tf.keras.optimizers.Adam(learning_rate=0.1)\n",
    "model.compile(optimizer=opt, loss='mse', metrics=['mae'])\n",
    "model.summary()"
   ]
  },
  {
   "cell_type": "code",
   "execution_count": 46,
   "metadata": {},
   "outputs": [
    {
     "name": "stdout",
     "output_type": "stream",
     "text": [
      "Epoch 1/10\n",
      "511/511 [==============================] - 1s 1ms/step - loss: 4703733248.0000 - mae: 50347.7891\n",
      "Epoch 2/10\n",
      "511/511 [==============================] - 1s 2ms/step - loss: 4379320832.0000 - mae: 48396.8828\n",
      "Epoch 3/10\n",
      "511/511 [==============================] - 1s 1ms/step - loss: 4324647936.0000 - mae: 48072.1211\n",
      "Epoch 4/10\n",
      "511/511 [==============================] - 1s 1ms/step - loss: 4294866688.0000 - mae: 47814.1562\n",
      "Epoch 5/10\n",
      "511/511 [==============================] - 1s 1ms/step - loss: 4316803072.0000 - mae: 47911.7305\n",
      "Epoch 6/10\n",
      "511/511 [==============================] - 1s 1ms/step - loss: 4318193664.0000 - mae: 47932.1133\n",
      "Epoch 7/10\n",
      "511/511 [==============================] - 1s 1ms/step - loss: 4199971328.0000 - mae: 47183.6250\n",
      "Epoch 8/10\n",
      "511/511 [==============================] - 1s 1ms/step - loss: 4276575232.0000 - mae: 47641.9102\n",
      "Epoch 9/10\n",
      "511/511 [==============================] - 1s 1ms/step - loss: 4282025216.0000 - mae: 47722.2305\n",
      "Epoch 10/10\n",
      "511/511 [==============================] - 1s 1ms/step - loss: 4234717440.0000 - mae: 47185.0664\n"
     ]
    }
   ],
   "source": [
    "model_history = model.fit(x_train, y_train,\n",
    "                    epochs=10,\n",
    "                    batch_size=32, verbose=1)"
   ]
  },
  {
   "cell_type": "code",
   "execution_count": 47,
   "metadata": {},
   "outputs": [
    {
     "data": {
      "text/plain": [
       "[<matplotlib.lines.Line2D at 0x2aebf3529e0>]"
      ]
     },
     "execution_count": 47,
     "metadata": {},
     "output_type": "execute_result"
    },
    {
     "data": {
      "image/png": "[encoded data removed]",
      "text/plain": [
       "<Figure size 640x480 with 1 Axes>"
      ]
     },
     "metadata": {},
     "output_type": "display_data"
    }
   ],
   "source": [
    "import matplotlib.pyplot as plt\n",
    "\n",
    "plt.plot(model_history.history[\"mae\"])"
   ]
  },
  {
   "cell_type": "markdown",
   "metadata": {},
   "source": [
    "Finer optimization near the minimum"
   ]
  },
  {
   "cell_type": "code",
   "execution_count": 48,
   "metadata": {},
   "outputs": [
    {
     "name": "stdout",
     "output_type": "stream",
     "text": [
      "128/128 [==============================] - 0s 1ms/step\n",
      "511/511 [==============================] - 1s 1ms/step\n",
      "test error:  46891.680108559696\n",
      "train error:  46379.37896278761\n",
      "test error %:  22.667833192450296\n",
      "0.69\n"
     ]
    }
   ],
   "source": [
    "from sklearn.metrics import mean_absolute_error\n",
    "from sklearn.metrics import r2_score\n",
    "\n",
    "test_predictions=model.predict(x_test)\n",
    "train_predictions=model.predict(x_train)\n",
    "\n",
    "test_mae=mean_absolute_error(y_test, test_predictions)\n",
    "train_mae=mean_absolute_error(y_train, train_predictions)\n",
    "\n",
    "print(\"test error: \", test_mae)\n",
    "print(\"train error: \", train_mae)\n",
    "\n",
    "print(\"test error %: \", 100*test_mae/drop_na_data.median_house_value.mean())\n",
    "\n",
    "print(round(r2_score(y_test, test_predictions),2))"
   ]
  },
  {
   "cell_type": "code",
   "execution_count": null,
   "metadata": {},
   "outputs": [],
   "source": []
  }
 ],
 "metadata": {
  "kernelspec": {
   "display_name": "base",
   "language": "python",
   "name": "python3"
  },
  "language_info": {
   "codemirror_mode": {
    "name": "ipython",
    "version": 3
   },
   "file_extension": ".py",
   "mimetype": "text/x-python",
   "name": "python",
   "nbconvert_exporter": "python",
   "pygments_lexer": "ipython3",
   "version": "3.10.9"
  },
  "orig_nbformat": 4
 },
 "nbformat": 4,
 "nbformat_minor": 2
}
